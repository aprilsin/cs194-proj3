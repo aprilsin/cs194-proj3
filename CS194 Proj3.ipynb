{
 "cells": [
  {
   "cell_type": "code",
   "execution_count": 8,
   "metadata": {
    "ExecuteTime": {
     "end_time": "2020-10-11T12:52:54.904860Z",
     "start_time": "2020-10-11T12:52:54.885096Z"
    }
   },
   "outputs": [
    {
     "name": "stdout",
     "output_type": "stream",
     "text": [
      "The autoreload extension is already loaded. To reload it, use:\n",
      "  %reload_ext autoreload\n"
     ]
    }
   ],
   "source": [
    "%load_ext autoreload\n",
    "%autoreload 2"
   ]
  },
  {
   "cell_type": "code",
   "execution_count": 9,
   "metadata": {
    "ExecuteTime": {
     "end_time": "2020-10-11T20:54:40.207537Z",
     "start_time": "2020-10-11T20:54:40.173469Z"
    }
   },
   "outputs": [],
   "source": [
    "import numpy as np\n",
    "import skimage as sk\n",
    "import skimage.io as io\n",
    "import matplotlib\n",
    "%matplotlib inline\n",
    "from skimage.util import img_as_ubyte\n",
    "import utils, morph\n",
    "from main import *"
   ]
  },
  {
   "cell_type": "code",
   "execution_count": 10,
   "metadata": {
    "ExecuteTime": {
     "end_time": "2020-10-11T12:52:56.451438Z",
     "start_time": "2020-10-11T12:52:55.601Z"
    }
   },
   "outputs": [],
   "source": [
    "from scipy.spatial import Delaunay\n",
    "from scipy.interpolate import interp2d"
   ]
  },
  {
   "cell_type": "code",
   "execution_count": 11,
   "metadata": {
    "ExecuteTime": {
     "end_time": "2020-10-11T12:52:56.452801Z",
     "start_time": "2020-10-11T12:52:56.019Z"
    }
   },
   "outputs": [],
   "source": [
    "from pathlib import Path\n",
    "data = Path(\"input\")\n",
    "data.mkdir(parents=True, exist_ok=True)"
   ]
  },
  {
   "cell_type": "code",
   "execution_count": 12,
   "metadata": {
    "ExecuteTime": {
     "end_time": "2020-10-11T12:52:56.454168Z",
     "start_time": "2020-10-11T12:52:56.320Z"
    },
    "tags": []
   },
   "outputs": [],
   "source": [
    "# matplotlib.use(\"TkAgg\")\n",
    "# matplotlib.use(\"Tk\")\n",
    "# matplotlib.interactive(True)"
   ]
  },
  {
   "cell_type": "code",
   "execution_count": 21,
   "metadata": {
    "ExecuteTime": {
     "end_time": "2020-10-11T12:53:56.520082Z",
     "start_time": "2020-10-11T12:53:30.593Z"
    }
   },
   "outputs": [
    {
     "data": {
      "text/plain": [
       "(2640, 1980, 3)"
      ]
     },
     "execution_count": 21,
     "metadata": {},
     "output_type": "execute_result"
    }
   ],
   "source": [
    "me = utils.read_img(\"src_images/me.jpg\")\n",
    "me.shape\n",
    "# io.imshow(me)"
   ]
  },
  {
   "cell_type": "code",
   "execution_count": 16,
   "metadata": {},
   "outputs": [
    {
     "name": "stdout",
     "output_type": "stream",
     "text": [
      "Please select the eyes for alignment.\n",
      "Please select 2 points in image.\n",
      "float64\n"
     ]
    }
   ],
   "source": [
    "matplotlib.use(\"TkAgg\")\n",
    "utils.align_img(\"src_images/me.jpg\")"
   ]
  },
  {
   "cell_type": "code",
   "execution_count": 17,
   "metadata": {},
   "outputs": [
    {
     "name": "stdout",
     "output_type": "stream",
     "text": [
      "Please select the eyes for alignment.\n",
      "Please select 2 points in image.\n",
      "float64\n"
     ]
    }
   ],
   "source": [
    "utils.align_img(\"src_images/iu_4.jpg\")"
   ]
  },
  {
   "cell_type": "code",
   "execution_count": 20,
   "metadata": {},
   "outputs": [
    {
     "data": {
      "text/plain": [
       "(1071, 900, 3)"
      ]
     },
     "execution_count": 20,
     "metadata": {},
     "output_type": "execute_result"
    }
   ],
   "source": [
    "iu = utils.read_img(\"src_images/iu_4.jpg\")\n",
    "iu.shape"
   ]
  },
  {
   "cell_type": "code",
   "execution_count": null,
   "metadata": {},
   "outputs": [],
   "source": []
  }
 ],
 "metadata": {
  "kernelspec": {
   "display_name": "Python 3",
   "language": "python",
   "name": "python3"
  },
  "language_info": {
   "codemirror_mode": {
    "name": "ipython",
    "version": 3
   },
   "file_extension": ".py",
   "mimetype": "text/x-python",
   "name": "python",
   "nbconvert_exporter": "python",
   "pygments_lexer": "ipython3",
   "version": "3.8.3"
  },
  "toc": {
   "base_numbering": 1,
   "nav_menu": {},
   "number_sections": true,
   "sideBar": true,
   "skip_h1_title": false,
   "title_cell": "Table of Contents",
   "title_sidebar": "Contents",
   "toc_cell": false,
   "toc_position": {},
   "toc_section_display": true,
   "toc_window_display": false
  }
 },
 "nbformat": 4,
 "nbformat_minor": 4
}
