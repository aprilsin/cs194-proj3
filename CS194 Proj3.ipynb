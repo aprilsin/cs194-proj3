{
 "cells": [
  {
   "cell_type": "code",
   "execution_count": 8,
   "metadata": {
    "ExecuteTime": {
     "end_time": "2020-10-11T10:17:49.833756Z",
     "start_time": "2020-10-11T10:17:49.808422Z"
    }
   },
   "outputs": [],
   "source": [
    "%load_ext autoreload\n",
    "%autoreload 2"
   ]
  },
  {
   "cell_type": "code",
   "execution_count": 66,
   "metadata": {
    "ExecuteTime": {
     "end_time": "2020-10-11T10:22:12.170725Z",
     "start_time": "2020-10-11T10:22:12.147873Z"
    }
   },
   "outputs": [],
   "source": [
    "import numpy as np\n",
    "import skimage as sk\n",
    "import skimage.io as io\n",
    "import matplotlib\n",
    "%matplotlib inline\n",
    "from skimage.util import img_as_ubyte\n",
    "import utils, morph\n",
    "from main import *"
   ]
  },
  {
   "cell_type": "code",
   "execution_count": 73,
   "metadata": {
    "ExecuteTime": {
     "end_time": "2020-10-11T10:22:15.417094Z",
     "start_time": "2020-10-11T10:22:15.396683Z"
    }
   },
   "outputs": [],
   "source": [
    "from scipy.spatial import Delaunay\n",
    "from scipy.interpolate import interp2d"
   ]
  },
  {
   "cell_type": "code",
   "execution_count": 67,
   "metadata": {
    "ExecuteTime": {
     "end_time": "2020-10-11T10:22:12.471910Z",
     "start_time": "2020-10-11T10:22:12.451667Z"
    }
   },
   "outputs": [],
   "source": [
    "from pathlib import Path\n",
    "data = Path(\"input\")\n",
    "data.mkdir(parents=True, exist_ok=True)"
   ]
  },
  {
   "cell_type": "code",
   "execution_count": 71,
   "metadata": {
    "ExecuteTime": {
     "end_time": "2020-10-11T10:22:13.675422Z",
     "start_time": "2020-10-11T10:22:13.653941Z"
    },
    "tags": []
   },
   "outputs": [],
   "source": [
    "# matplotlib.use(\"TkAgg\")\n",
    "# matplotlib.interactive(True)"
   ]
  },
  {
   "cell_type": "code",
   "execution_count": 68,
   "metadata": {
    "ExecuteTime": {
     "end_time": "2020-10-11T10:22:13.599993Z",
     "start_time": "2020-10-11T10:22:12.650612Z"
    }
   },
   "outputs": [
    {
     "name": "stdout",
     "output_type": "stream",
     "text": [
      "scaled (748, 748, 3)\n",
      "padding 0 1 0 1\n",
      "index 88 662 109 655\n",
      "cropped (575, 547, 3)\n",
      "1.0 0.07809967820237235\n",
      "scaled (805, 626, 3)\n",
      "padding 0 1 0 1\n",
      "index 107 681 40 586\n",
      "cropped (575, 547, 3)\n",
      "0.9999999999999999 0.0007257306111060611\n"
     ]
    }
   ],
   "source": [
    "im1 = utils.setup_img('input/passport0.jpg')\n",
    "im2 = utils.setup_img('input/passport1.jpg')"
   ]
  },
  {
   "cell_type": "code",
   "execution_count": 69,
   "metadata": {
    "ExecuteTime": {
     "end_time": "2020-10-11T10:22:13.625217Z",
     "start_time": "2020-10-11T10:22:13.602421Z"
    }
   },
   "outputs": [
    {
     "data": {
      "text/plain": [
       "((575, 547, 3), dtype('float64'))"
      ]
     },
     "execution_count": 69,
     "metadata": {},
     "output_type": "execute_result"
    }
   ],
   "source": [
    "im1.shape, im1.dtype"
   ]
  },
  {
   "cell_type": "code",
   "execution_count": 70,
   "metadata": {
    "ExecuteTime": {
     "end_time": "2020-10-11T10:22:13.650546Z",
     "start_time": "2020-10-11T10:22:13.628715Z"
    }
   },
   "outputs": [
    {
     "data": {
      "text/plain": [
       "((575, 547, 3), dtype('float64'))"
      ]
     },
     "execution_count": 70,
     "metadata": {},
     "output_type": "execute_result"
    }
   ],
   "source": [
    "im2.shape, im2.dtype"
   ]
  },
  {
   "cell_type": "code",
   "execution_count": 80,
   "metadata": {
    "ExecuteTime": {
     "end_time": "2020-10-11T10:23:52.126187Z",
     "start_time": "2020-10-11T10:23:52.104472Z"
    }
   },
   "outputs": [],
   "source": [
    "avg_pts = avg_points(im1_pts, im2_pts, 0.8)"
   ]
  },
  {
   "cell_type": "code",
   "execution_count": 83,
   "metadata": {
    "ExecuteTime": {
     "end_time": "2020-10-11T10:24:49.131904Z",
     "start_time": "2020-10-11T10:24:49.108507Z"
    }
   },
   "outputs": [
    {
     "data": {
      "text/plain": [
       "scipy.spatial.qhull.Delaunay"
      ]
     },
     "execution_count": 83,
     "metadata": {},
     "output_type": "execute_result"
    }
   ],
   "source": [
    "delaunay_tri = Delaunay(avg_pts)\n",
    "type(delaunay_tri)"
   ]
  },
  {
   "cell_type": "code",
   "execution_count": 79,
   "metadata": {
    "ExecuteTime": {
     "end_time": "2020-10-11T10:22:59.095390Z",
     "start_time": "2020-10-11T10:22:59.065280Z"
    }
   },
   "outputs": [],
   "source": [
    "import matplotlib.pyplot as plt\n",
    "plot_tri_mesh(im1, avg_pts, delaunay_tri)\n",
    "plt.show()"
   ]
  },
  {
   "cell_type": "code",
   "execution_count": 51,
   "metadata": {
    "ExecuteTime": {
     "end_time": "2020-10-11T10:20:42.274872Z",
     "start_time": "2020-10-11T10:20:42.246647Z"
    }
   },
   "outputs": [],
   "source": [
    "plt.imshow(im1)\n",
    "tri.plot_tri_mesh(im1_pts, delaunay_tri)"
   ]
  },
  {
   "cell_type": "code",
   "execution_count": 50,
   "metadata": {
    "ExecuteTime": {
     "end_time": "2020-10-11T10:20:33.181845Z",
     "start_time": "2020-10-11T10:20:33.152910Z"
    }
   },
   "outputs": [],
   "source": [
    "plt.imshow(im2)\n",
    "tri.plot_tri_mesh(im2_pts, delaunay_tri)"
   ]
  },
  {
   "cell_type": "code",
   "execution_count": null,
   "metadata": {},
   "outputs": [],
   "source": []
  },
  {
   "cell_type": "code",
   "execution_count": null,
   "metadata": {},
   "outputs": [],
   "source": []
  }
 ],
 "metadata": {
  "kernelspec": {
   "display_name": "Python 3",
   "language": "python",
   "name": "python3"
  },
  "language_info": {
   "codemirror_mode": {
    "name": "ipython",
    "version": 3
   },
   "file_extension": ".py",
   "mimetype": "text/x-python",
   "name": "python",
   "nbconvert_exporter": "python",
   "pygments_lexer": "ipython3",
   "version": "3.8.5"
  },
  "toc": {
   "base_numbering": 1,
   "nav_menu": {},
   "number_sections": true,
   "sideBar": true,
   "skip_h1_title": false,
   "title_cell": "Table of Contents",
   "title_sidebar": "Contents",
   "toc_cell": false,
   "toc_position": {},
   "toc_section_display": true,
   "toc_window_display": false
  }
 },
 "nbformat": 4,
 "nbformat_minor": 4
}
